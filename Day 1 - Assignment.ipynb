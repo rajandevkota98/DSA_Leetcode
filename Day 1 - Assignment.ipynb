{
 "cells": [
  {
   "cell_type": "markdown",
   "id": "46975419",
   "metadata": {},
   "source": [
    "<aside>\n",
    "💡 **Q1.** Given an array of integers nums and an integer target, return indices of the two numbers such that they add up to target.\n",
    "\n",
    "You may assume that each input would have exactly one solution, and you may not use the same element twice.\n",
    "\n",
    "You can return the answer in any order.\n",
    "\n",
    "**Example:**\n",
    "Input: nums = [2,7,11,15], target = 9\n",
    "Output0 [0,1]\n",
    "\n",
    "**Explanation:** Because nums[0] + nums[1] == 9, we return [0, 1][\n",
    "\n",
    "</aside>"
   ]
  },
  {
   "cell_type": "code",
   "execution_count": 37,
   "id": "308dba0b",
   "metadata": {},
   "outputs": [],
   "source": [
    "from typing import List\n",
    "def two_sum(num_list: list(),target: int)->list:\n",
    "    copy = num_list.copy()\n",
    "    num_list.sort()\n",
    "    low = 0\n",
    "    high = len(num_list)-1\n",
    "    res = []\n",
    "    while low<high:\n",
    "        sum_ = num_list[low]+num_list[high]\n",
    "        if sum_ < target:\n",
    "            low = low + 1\n",
    "        elif sum_>target:\n",
    "            high = high-1\n",
    "        else:\n",
    "            res.append([copy.index(num_list[low]), copy.index(num_list[high])])\n",
    "            low = low+1\n",
    "            high = high-1\n",
    "            while low < high and num_list[low] == num_list[low - 1]:\n",
    "                low = low + 1\n",
    "    \n",
    "    return res\n",
    "        \n",
    "        "
   ]
  },
  {
   "cell_type": "code",
   "execution_count": 41,
   "id": "87f87c78",
   "metadata": {},
   "outputs": [
    {
     "data": {
      "text/plain": [
       "[[0, 2]]"
      ]
     },
     "execution_count": 41,
     "metadata": {},
     "output_type": "execute_result"
    }
   ],
   "source": [
    "two_sum([2,2,7,11,15],9)"
   ]
  },
  {
   "cell_type": "markdown",
   "id": "8a47c2d3",
   "metadata": {},
   "source": [
    "💡 **Q2.** Given an integer array nums and an integer val, remove all occurrences of val in nums in-place. The order of the elements may be changed. Then return the number of elements in nums which are not equal to val.\n",
    "\n",
    "Consider the number of elements in nums which are not equal to val be k, to get accepted, you need to do the following things:\n",
    "\n",
    "- Change the array nums such that the first k elements of nums contain the elements which are not equal to val. The remaining elements of nums are not important as well as the size of nums.\n",
    "- Return k.\n",
    "\n",
    "**Example :**\n",
    "Input: nums = [3,2,2,3], val = 3\n",
    "Output: 2, nums = [2,2,_*,_*]\n",
    "\n",
    "**Explanation:** Your function should return k = 2, with the first two elements of nums being 2. It does not matter what you leave beyond the returned k (hence they are underscores)\n",
    "\n",
    "</aside>"
   ]
  },
  {
   "cell_type": "markdown",
   "id": "b1aa7a00",
   "metadata": {},
   "source": [
    "def input_number(list_ : list(),value: int)->int:\n",
    "    k = 0\n",
    "    nums = []\n",
    "    for i in list_:\n",
    "        if i!=value:\n",
    "            nums.insert(k,i)\n",
    "            k = k+1\n",
    "        else:\n",
    "            nums.append('*')\n",
    "    print(nums)\n",
    "    return k\n",
    "            "
   ]
  },
  {
   "cell_type": "markdown",
   "id": "7ef5488f",
   "metadata": {},
   "source": [
    "#### Time complexity : O(n^2)"
   ]
  },
  {
   "cell_type": "code",
   "execution_count": 49,
   "id": "feba11f1",
   "metadata": {},
   "outputs": [
    {
     "name": "stdout",
     "output_type": "stream",
     "text": [
      "[2, 2, '*', '*']\n"
     ]
    },
    {
     "data": {
      "text/plain": [
       "2"
      ]
     },
     "execution_count": 49,
     "metadata": {},
     "output_type": "execute_result"
    }
   ],
   "source": [
    "input_number( [3,2,2,3],3)"
   ]
  },
  {
   "cell_type": "code",
   "execution_count": 50,
   "id": "0ee3cfc4",
   "metadata": {},
   "outputs": [],
   "source": [
    "def input_number(list_ : list(),value: int)->int:\n",
    "    k = 0\n",
    "    nums = []\n",
    "    for i in list_:\n",
    "        if i!=value:\n",
    "            nums.append(i)\n",
    "            k = k+1\n",
    "    for i in range(len(list_)-k):\n",
    "        nums.append('*')\n",
    "    print(nums)\n",
    "    return k"
   ]
  },
  {
   "cell_type": "code",
   "execution_count": 51,
   "id": "cb2a48da",
   "metadata": {},
   "outputs": [
    {
     "name": "stdout",
     "output_type": "stream",
     "text": [
      "[2, 2, '*', '*']\n"
     ]
    },
    {
     "data": {
      "text/plain": [
       "2"
      ]
     },
     "execution_count": 51,
     "metadata": {},
     "output_type": "execute_result"
    }
   ],
   "source": [
    "input_number( [3,2,2,3],3)"
   ]
  },
  {
   "cell_type": "markdown",
   "id": "50961739",
   "metadata": {},
   "source": [
    "Time complexity: O(n)"
   ]
  },
  {
   "cell_type": "markdown",
   "id": "4c2c3fb6",
   "metadata": {},
   "source": [
    "💡 **Q3.** Given a sorted array of distinct integers and a target value, return the index if the target is found. If not, return the index where it would be if it were inserted in order.\n",
    "\n",
    "You must write an algorithm with O(log n) runtime complexity.\n",
    "\n",
    "**Example 1:**\n",
    "Input: nums = [1,3,5,6], target = 5\n",
    "\n",
    "Output: 2\n",
    "\n",
    "</aside>"
   ]
  },
  {
   "cell_type": "code",
   "execution_count": 52,
   "id": "d258c30d",
   "metadata": {},
   "outputs": [],
   "source": [
    "#It involves binary search"
   ]
  },
  {
   "cell_type": "code",
   "execution_count": 55,
   "id": "e4e78e9e",
   "metadata": {},
   "outputs": [],
   "source": [
    "def search_index(list_: list(), target)->int:\n",
    "    low = 0\n",
    "    high = len(list_)-1\n",
    "    while low<=high:\n",
    "        mid = (low+high)//2\n",
    "        if list_[mid] == target:\n",
    "            return mid\n",
    "        elif list_[mid]<target:\n",
    "            low = low+1\n",
    "        else:\n",
    "            high = high -1\n",
    "    return low+1"
   ]
  },
  {
   "cell_type": "code",
   "execution_count": 58,
   "id": "7915ef9a",
   "metadata": {},
   "outputs": [
    {
     "data": {
      "text/plain": [
       "4"
      ]
     },
     "execution_count": 58,
     "metadata": {},
     "output_type": "execute_result"
    }
   ],
   "source": [
    "search_index( [1,3,5,6],7)"
   ]
  },
  {
   "cell_type": "markdown",
   "id": "b3d78106",
   "metadata": {},
   "source": [
    "Time complexity : log(n)\n",
    "Space Complexity : O(1)"
   ]
  },
  {
   "cell_type": "markdown",
   "id": "feefb519",
   "metadata": {},
   "source": [
    "💡 **Q4.** You are given a large integer represented as an integer array digits, where each digits[i] is the ith digit of the integer. The digits are ordered from most significant to least significant in left-to-right order. The large integer does not contain any leading 0's.\n",
    "\n",
    "Increment the large integer by one and return the resulting array of digits.\n",
    "\n",
    "**Example 1:**\n",
    "Input: digits = [1,2,3]\n",
    "Output: [1,2,4]\n",
    "\n",
    "**Explanation:** The array represents the integer 123.\n",
    "\n",
    "Incrementing by one gives 123 + 1 = 124.\n",
    "Thus, the result should be [1,2,4].\n",
    "\n",
    "</aside>"
   ]
  },
  {
   "cell_type": "code",
   "execution_count": 64,
   "id": "9fd5015b",
   "metadata": {},
   "outputs": [],
   "source": [
    "def compute_integer(list_: list())->int:\n",
    "    sum_ = int(''.join(str(i) for i in list_))+1\n",
    "    return sum_\n",
    "    "
   ]
  },
  {
   "cell_type": "code",
   "execution_count": 65,
   "id": "542b5913",
   "metadata": {},
   "outputs": [
    {
     "data": {
      "text/plain": [
       "124"
      ]
     },
     "execution_count": 65,
     "metadata": {},
     "output_type": "execute_result"
    }
   ],
   "source": [
    "compute_integer([1,2,3])"
   ]
  },
  {
   "cell_type": "markdown",
   "id": "61da33f4",
   "metadata": {},
   "source": [
    "Time complexity: O(n)\n",
    "space complexiyy : O(n)"
   ]
  },
  {
   "cell_type": "code",
   "execution_count": 75,
   "id": "ad0bc583",
   "metadata": {},
   "outputs": [],
   "source": [
    "def compute_integer(list_: list())->int:\n",
    "    sum_ = 0\n",
    "    j = 1\n",
    "    for i in list_[::-1]:\n",
    "        i = i*j\n",
    "        sum_ = sum_ + i\n",
    "        j = j*10\n",
    "    return sum_ + 1\n",
    "        "
   ]
  },
  {
   "cell_type": "code",
   "execution_count": 76,
   "id": "a2c9da07",
   "metadata": {},
   "outputs": [
    {
     "data": {
      "text/plain": [
       "124"
      ]
     },
     "execution_count": 76,
     "metadata": {},
     "output_type": "execute_result"
    }
   ],
   "source": [
    "compute_integer([1,2,3])"
   ]
  },
  {
   "cell_type": "markdown",
   "id": "d92e9d6e",
   "metadata": {},
   "source": [
    "Time complexity: O(n)\n",
    "space complexiyy : O(1)"
   ]
  },
  {
   "cell_type": "markdown",
   "id": "b99d0751",
   "metadata": {},
   "source": [
    "💡 **Q5.** You are given two integer arrays nums1 and nums2, sorted in non-decreasing order, and two integers m and n, representing the number of elements in nums1 and nums2 respectively.\n",
    "\n",
    "Merge nums1 and nums2 into a single array sorted in non-decreasing order.\n",
    "\n",
    "The final sorted array should not be returned by the function, but instead be stored inside the array nums1. To accommodate this, nums1 has a length of m + n, where the first m elements denote the elements that should be merged, and the last n elements are set to 0 and should be ignored. nums2 has a length of n.\n",
    "\n",
    "**Example 1:**\n",
    "Input: nums1 = [1,2,3,0,0,0], m = 3, nums2 = [2,5,6], n = 3\n",
    "Output: [1,2,2,3,5,6]\n",
    "\n",
    "**Explanation:** The arrays we are merging are [1,2,3] and [2,5,6].\n",
    "The result of the merge is [1,2,2,3,5,6] with the underlined elements coming from nums1.\n",
    "\n",
    "</aside>"
   ]
  },
  {
   "cell_type": "code",
   "execution_count": 111,
   "id": "0d438116",
   "metadata": {},
   "outputs": [],
   "source": [
    "def merger_(list1 , list2)->list:\n",
    "    n = len(list2)\n",
    "    list1[n:] = list2\n",
    "    list1.sort()\n",
    "    return list1\n",
    "\n",
    "    \n",
    "    \n",
    "    "
   ]
  },
  {
   "cell_type": "code",
   "execution_count": 113,
   "id": "28b82b6b",
   "metadata": {},
   "outputs": [
    {
     "data": {
      "text/plain": [
       "[1, 2, 2, 3, 5, 6]"
      ]
     },
     "execution_count": 113,
     "metadata": {},
     "output_type": "execute_result"
    }
   ],
   "source": [
    "merger_( [1,2,3,0,0,0],[2,5,6])"
   ]
  },
  {
   "cell_type": "markdown",
   "id": "7643bbe4",
   "metadata": {},
   "source": [
    "Time complexity: nlog(n)\n",
    "\n",
    "space complecity : O(1)"
   ]
  },
  {
   "cell_type": "markdown",
   "id": "0481e014",
   "metadata": {},
   "source": [
    "💡 **Q6.** Given an integer array nums, return true if any value appears at least twice in the array, and return false if every element is distinct.\n",
    "\n",
    "**Example 1:**\n",
    "Input: nums = [1,2,3,1]\n",
    "\n",
    "Output: true\n",
    "\n",
    "</aside>"
   ]
  },
  {
   "cell_type": "code",
   "execution_count": 120,
   "id": "2b9ea6f9",
   "metadata": {},
   "outputs": [],
   "source": [
    "def value_count(list_: list)->bool:\n",
    "    list1 = []\n",
    "    for i in list_:\n",
    "        if i not in list1:\n",
    "            list1.append(i)\n",
    "        else:\n",
    "            return True\n",
    "    return False"
   ]
  },
  {
   "cell_type": "code",
   "execution_count": 121,
   "id": "35a3709b",
   "metadata": {},
   "outputs": [
    {
     "data": {
      "text/plain": [
       "True"
      ]
     },
     "execution_count": 121,
     "metadata": {},
     "output_type": "execute_result"
    }
   ],
   "source": [
    "value_count([1,2,3,1])"
   ]
  },
  {
   "cell_type": "markdown",
   "id": "209331be",
   "metadata": {},
   "source": [
    "💡 **Q7.** Given an integer array nums, move all 0's to the end of it while maintaining the relative order of the nonzero elements.\n",
    "\n",
    "Note that you must do this in-place without making a copy of the array.\n",
    "\n",
    "**Example 1:**\n",
    "Input: nums = [0,1,0,3,12]\n",
    "Output: [1,3,12,0,0]\n",
    "\n",
    "</aside>"
   ]
  },
  {
   "cell_type": "code",
   "execution_count": 122,
   "id": "2fea5282",
   "metadata": {},
   "outputs": [],
   "source": [
    "def relative(list_: list)->list:\n",
    "    left = 0\n",
    "    right = 0\n",
    "    for right in range(0, len(list_)):\n",
    "        if list_[right]!=0:\n",
    "            list_[left],list_[right]=list_[right],list_[left]\n",
    "            left = left +1\n",
    "    return list_\n",
    "        "
   ]
  },
  {
   "cell_type": "code",
   "execution_count": 123,
   "id": "3b9fc54e",
   "metadata": {},
   "outputs": [
    {
     "data": {
      "text/plain": [
       "[1, 3, 12, 0, 0]"
      ]
     },
     "execution_count": 123,
     "metadata": {},
     "output_type": "execute_result"
    }
   ],
   "source": [
    "relative( [0,1,0,3,12])"
   ]
  },
  {
   "cell_type": "markdown",
   "id": "4b4e4e1d",
   "metadata": {},
   "source": [
    "💡 **Q8.** You have a set of integers s, which originally contains all the numbers from 1 to n. Unfortunately, due to some error, one of the numbers in s got duplicated to another number in the set, which results in repetition of one number and loss of another number.\n",
    "\n",
    "You are given an integer array nums representing the data status of this set after the error.\n",
    "\n",
    "Find the number that occurs twice and the number that is missing and return them in the form of an array.\n",
    "\n",
    "**Example 1:**\n",
    "Input: nums = [1,2,2,4]\n",
    "Output: [2,3]\n",
    "\n",
    "</aside>"
   ]
  },
  {
   "cell_type": "code",
   "execution_count": 125,
   "id": "f85cbabb",
   "metadata": {},
   "outputs": [],
   "source": [
    "def missing_and_duplicate(num_list :list)->list:\n",
    "    list_ = []\n",
    "    for i in num_list:\n",
    "        if i not in list_:\n",
    "            list_.append(i)\n",
    "        else:\n",
    "            error = i\n",
    "            \n",
    "    n = list_[-1]\n",
    "    for i in range(1,n+1):\n",
    "        if i not in list_:\n",
    "            missing_num = i\n",
    "    return [error, missing_num]\n",
    "        \n",
    "            \n"
   ]
  },
  {
   "cell_type": "code",
   "execution_count": 126,
   "id": "d51b6ae0",
   "metadata": {},
   "outputs": [
    {
     "data": {
      "text/plain": [
       "[2, 3]"
      ]
     },
     "execution_count": 126,
     "metadata": {},
     "output_type": "execute_result"
    }
   ],
   "source": [
    "missing_and_duplicate( [1,2,2,4])"
   ]
  }
 ],
 "metadata": {
  "kernelspec": {
   "display_name": "Python 3 (ipykernel)",
   "language": "python",
   "name": "python3"
  },
  "language_info": {
   "codemirror_mode": {
    "name": "ipython",
    "version": 3
   },
   "file_extension": ".py",
   "mimetype": "text/x-python",
   "name": "python",
   "nbconvert_exporter": "python",
   "pygments_lexer": "ipython3",
   "version": "3.10.9"
  }
 },
 "nbformat": 4,
 "nbformat_minor": 5
}
