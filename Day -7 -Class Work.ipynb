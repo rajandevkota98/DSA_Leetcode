{
 "cells": [
  {
   "cell_type": "markdown",
   "id": "f045ef18",
   "metadata": {},
   "source": [
    "# ********************Question 1********************\n",
    "\n",
    "Write a function that reverses a string. The input string is given as an array of characters s.\n",
    "\n",
    "You must do this by modifying the input array [in-place](https://en.wikipedia.org/wiki/In-place_algorithm) with O(1) extra memory.\n",
    "\n",
    "**Example 1:**\n",
    "\n",
    "**Input:** s = [\"h\",\"e\",\"l\",\"l\",\"o\"]\n",
    "\n",
    "**Output:** [\"o\",\"l\",\"l\",\"e\",\"h\"]\n",
    "\n",
    "</aside>"
   ]
  },
  {
   "cell_type": "code",
   "execution_count": 2,
   "id": "7bb8028a",
   "metadata": {},
   "outputs": [],
   "source": [
    "def reverse_string(list_:list)->list:\n",
    "    low = 0\n",
    "    high = len(list_)-1\n",
    "    while low<=high:\n",
    "        list_[low],list_[high]=list_[high], list_[low]\n",
    "        low = low+1\n",
    "        high = high-1\n",
    "    return list_\n",
    "    "
   ]
  },
  {
   "cell_type": "code",
   "execution_count": 3,
   "id": "103d3b4b",
   "metadata": {},
   "outputs": [
    {
     "data": {
      "text/plain": [
       "['o', 'l', 'l', 'e', 'h']"
      ]
     },
     "execution_count": 3,
     "metadata": {},
     "output_type": "execute_result"
    }
   ],
   "source": [
    "reverse_string([\"h\",\"e\",\"l\",\"l\",\"o\"])"
   ]
  },
  {
   "cell_type": "markdown",
   "id": "27d50c35",
   "metadata": {},
   "source": [
    "# 💡 ********************Question 2********************\n",
    "\n",
    "Given a string s, *find the first non-repeating character in it and return its index*. If it does not exist, return -1.\n",
    "\n",
    "**Example 1:**\n",
    "\n",
    "**Input:** s = \"leetcode\"\n",
    "\n",
    "**Output:** 0\n",
    "\n",
    "</aside>"
   ]
  },
  {
   "cell_type": "code",
   "execution_count": 6,
   "id": "88594c5f",
   "metadata": {},
   "outputs": [],
   "source": [
    "def not_repeating(string:str)->int:\n",
    "    dict_ = dict()\n",
    "    for i in string:\n",
    "        if i not in dict_:\n",
    "            dict_[i]= 1\n",
    "        else:\n",
    "            dict_[i]= dict_[i]+1\n",
    "    for i in dict_:\n",
    "        if dict_[i]==1:\n",
    "            return string.index(i)"
   ]
  },
  {
   "cell_type": "code",
   "execution_count": 7,
   "id": "b682b41f",
   "metadata": {},
   "outputs": [
    {
     "data": {
      "text/plain": [
       "0"
      ]
     },
     "execution_count": 7,
     "metadata": {},
     "output_type": "execute_result"
    }
   ],
   "source": [
    "not_repeating('leetcode')"
   ]
  },
  {
   "cell_type": "markdown",
   "id": "c57997f9",
   "metadata": {},
   "source": [
    "# **Complexity Analysis**\n",
    "\n",
    "- Time complexity : O(*N*) since we go through the string of length N two times.\n",
    "    \n",
    "- Space complexity : O(1) because English alphabet contains 26 letters."
   ]
  },
  {
   "cell_type": "markdown",
   "id": "574d42b0",
   "metadata": {},
   "source": [
    "# 💡 **************Question 3**************\n",
    "\n",
    "Given a string s consisting of words and spaces, return *the length of the *string of max length* word in the string.*\n",
    "\n",
    "A **word** is a maximal substring consisting of non-space characters only.\n",
    "\n",
    "**Example 1:**\n",
    "\n",
    "**Input:** s = \"Hello World\"\n",
    "\n",
    "**Output:** 5\n",
    "\n",
    "**Explanation:** The last word is \"World\" with length 5.\n",
    "\n",
    "</aside>"
   ]
  },
  {
   "cell_type": "code",
   "execution_count": 13,
   "id": "37f1c88e",
   "metadata": {},
   "outputs": [],
   "source": [
    "def max_length(string: str)->int:\n",
    "    string.strip()\n",
    "    max_length = 0\n",
    "    temp = 0\n",
    "    for i in range(len(string)):\n",
    "        if string[i]!=' ':\n",
    "            temp = temp+1\n",
    "        else:\n",
    "            max_length = max(max_length, temp)\n",
    "            temp = 0\n",
    "    return max(temp, max_length)"
   ]
  },
  {
   "cell_type": "code",
   "execution_count": 14,
   "id": "9123825b",
   "metadata": {},
   "outputs": [
    {
     "data": {
      "text/plain": [
       "6"
      ]
     },
     "execution_count": 14,
     "metadata": {},
     "output_type": "execute_result"
    }
   ],
   "source": [
    "max_length('hello worldi')"
   ]
  },
  {
   "cell_type": "markdown",
   "id": "5f96c3e0",
   "metadata": {},
   "source": [
    "# <aside>\n",
    "💡 ********************Question 4********************\n",
    "\n",
    "Write a function to find the longest common prefix string amongst an array of strings.\n",
    "\n",
    "If there is no common prefix, return an empty string \"\".\n",
    "\n",
    "**Example 1:**\n",
    "\n",
    "**Input:** strs = [\"flower\",\"flow\",\"flight\"]\n",
    "\n",
    "**Output:** \"fl\"\n",
    "\n",
    "</aside>"
   ]
  },
  {
   "cell_type": "code",
   "execution_count": 16,
   "id": "38757d05",
   "metadata": {},
   "outputs": [],
   "source": [
    "def max_prefix(list_: list)->list:\n",
    "    if len(list_)==0:\n",
    "        return 0\n",
    "    max_prefix = list_[0]\n",
    "    for i in range(1, len(list_)):\n",
    "        while list_[i].find(max_prefix)!=0:\n",
    "            max_prefix = max_prefix[:-1]\n",
    "            if len(max_prefix)==0:\n",
    "                return 0\n",
    "    return max_prefix\n",
    "            \n",
    "    \n",
    "    \n",
    "    \n",
    "    "
   ]
  },
  {
   "cell_type": "code",
   "execution_count": 17,
   "id": "26b09326",
   "metadata": {},
   "outputs": [
    {
     "data": {
      "text/plain": [
       "'fl'"
      ]
     },
     "execution_count": 17,
     "metadata": {},
     "output_type": "execute_result"
    }
   ],
   "source": [
    "max_prefix( [\"flower\",\"flow\",\"flight\"])"
   ]
  },
  {
   "cell_type": "markdown",
   "id": "7020b01e",
   "metadata": {},
   "source": [
    "# <aside>\n",
    "💡 ********************Question 5********************\n",
    "\n",
    "Given a string s, find the length of the **longest substring** without repeating characters.\n",
    "\n",
    "**Example 1:**\n",
    "\n",
    "**Input:** s = \"abcabcbb\"\n",
    "\n",
    "**Output:** 3\n",
    "\n",
    "**Explanation:** The answer is \"abc\", with the length of 3.\n",
    "\n",
    "</aside>"
   ]
  },
  {
   "cell_type": "code",
   "execution_count": 23,
   "id": "b7569417",
   "metadata": {},
   "outputs": [],
   "source": [
    "def non_repeating(string: str)->int:\n",
    "    max_length = 0\n",
    "    temp = 0\n",
    "    list_ = []\n",
    "    for i in string:\n",
    "        if i not in list_:\n",
    "            list_.append(i)\n",
    "            temp = len(list_)\n",
    "        else:\n",
    "            max_length = max(max_length, temp)\n",
    "            list_.remove(i)\n",
    "            temp = temp-1\n",
    "            list_.append(i)\n",
    "            \n",
    "    return max(temp, max_length)   "
   ]
  },
  {
   "cell_type": "code",
   "execution_count": 27,
   "id": "c945e5f0",
   "metadata": {},
   "outputs": [
    {
     "data": {
      "text/plain": [
       "4"
      ]
     },
     "execution_count": 27,
     "metadata": {},
     "output_type": "execute_result"
    }
   ],
   "source": [
    "non_repeating(\"abceabcbb\")"
   ]
  },
  {
   "cell_type": "markdown",
   "id": "2e068f54",
   "metadata": {},
   "source": [
    "# 💡 ********************Question 6********************\n",
    "\n",
    "Given an input string s, reverse the order of the **words**.\n",
    "\n",
    "A **word** is defined as a sequence of non-space characters. The **words** in s will be separated by at least one space.\n",
    "\n",
    "Return *a string of the words in reverse order concatenated by a single space.*\n",
    "\n",
    "**Note** that s may contain leading or trailing spaces or multiple spaces between two words. The returned string should only have a single space separating the words. Do not include any extra spaces.\n",
    "\n",
    "**Example 1:**\n",
    "\n",
    "**Input:** s = \"the sky is blue\"\n",
    "\n",
    "**Output:** \"blue is sky the\"\n",
    "\n",
    "</aside>"
   ]
  },
  {
   "cell_type": "code",
   "execution_count": 41,
   "id": "fc6add56",
   "metadata": {},
   "outputs": [],
   "source": [
    "def reverse_list_word(string:str)->str:\n",
    "    string.strip()\n",
    "    list_ = string.split()\n",
    "    list_= list_[::-1]\n",
    "    return ' '.join(list_)"
   ]
  },
  {
   "cell_type": "code",
   "execution_count": 42,
   "id": "de1ae8f3",
   "metadata": {},
   "outputs": [
    {
     "data": {
      "text/plain": [
       "'blue is sky the'"
      ]
     },
     "execution_count": 42,
     "metadata": {},
     "output_type": "execute_result"
    }
   ],
   "source": [
    "reverse_list_word('the sky is blue')"
   ]
  }
 ],
 "metadata": {
  "kernelspec": {
   "display_name": "Python 3 (ipykernel)",
   "language": "python",
   "name": "python3"
  },
  "language_info": {
   "codemirror_mode": {
    "name": "ipython",
    "version": 3
   },
   "file_extension": ".py",
   "mimetype": "text/x-python",
   "name": "python",
   "nbconvert_exporter": "python",
   "pygments_lexer": "ipython3",
   "version": "3.10.9"
  }
 },
 "nbformat": 4,
 "nbformat_minor": 5
}
