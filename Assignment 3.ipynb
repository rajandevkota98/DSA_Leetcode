{
 "cells": [
  {
   "cell_type": "markdown",
   "id": "23136a5e",
   "metadata": {},
   "source": [
    "# Question 1\n",
    "\n",
    "Given an integer array nums of length n and an integer target, find three integers\n",
    "in nums such that the sum is closest to the target.\n",
    "Return the sum of the three integers.\n",
    "\n",
    "You may assume that each input would have exactly one solution.\n",
    "\n",
    "Example 1:\n",
    "\n",
    "Input: nums = [-1,2,1,-4], target = 1\n",
    "\n",
    "Output: 2\n",
    "\n",
    "Explanation: The sum that is closest to the target is 2. (-1 + 2 + 1 = 2)."
   ]
  },
  {
   "cell_type": "code",
   "execution_count": 1,
   "id": "97df3b75",
   "metadata": {},
   "outputs": [],
   "source": [
    "def threeSumClosest(nums, target):\n",
    "    nums.sort()\n",
    "    n = len(nums)\n",
    "    closestSum = float('inf')\n",
    "\n",
    "    for i in range(n - 2):\n",
    "        left = i + 1\n",
    "        right = n - 1\n",
    "        while left < right:\n",
    "            currentSum = nums[i] + nums[left] + nums[right]\n",
    "            if abs(currentSum - target) < abs(closestSum - target):\n",
    "                closestSum = currentSum\n",
    "            if currentSum > target:\n",
    "                right -= 1\n",
    "            elif currentSum < target:\n",
    "                left += 1\n",
    "            else:\n",
    "                return target\n",
    "\n",
    "    return closestSum\n"
   ]
  },
  {
   "cell_type": "code",
   "execution_count": 2,
   "id": "e361dc81",
   "metadata": {},
   "outputs": [
    {
     "data": {
      "text/plain": [
       "2"
      ]
     },
     "execution_count": 2,
     "metadata": {},
     "output_type": "execute_result"
    }
   ],
   "source": [
    "threeSumClosest([-1,2,1,-4], 1)"
   ]
  },
  {
   "cell_type": "markdown",
   "id": "a582e859",
   "metadata": {},
   "source": [
    "# Question 2\n",
    "\n",
    "Given an array nums of n integers, return an array of all the unique quadruplets\n",
    "[nums[a], nums[b], nums[c], nums[d]] such that:\n",
    "    \n",
    "           ● 0 <= a, b, c, d < n\n",
    "        \n",
    "           ● a, b, c, and d are distinct.\n",
    "            \n",
    "           ● nums[a] + nums[b] + nums[c] + nums[d] == target\n",
    "\n",
    "You may return the answer in any order.\n",
    "\n",
    "Example 1:\n",
    "    \n",
    "Input: nums = [1,0,-1,0,-2,2], target = 0\n",
    "    \n",
    "Output: [[-2,-1,1,2],[-2,0,0,2],[-1,0,0,1]]"
   ]
  },
  {
   "cell_type": "code",
   "execution_count": 3,
   "id": "371c2699",
   "metadata": {},
   "outputs": [],
   "source": [
    "def fourSum(nums, target):\n",
    "    nums.sort()\n",
    "    n = len(nums)\n",
    "    quadruplets = []\n",
    "\n",
    "    for a in range(n - 3):\n",
    "        if a > 0 and nums[a] == nums[a - 1]:\n",
    "            continue\n",
    "\n",
    "        for b in range(a + 1, n - 2):\n",
    "            if b > a + 1 and nums[b] == nums[b - 1]:\n",
    "                continue\n",
    "\n",
    "            left = b + 1\n",
    "            right = n - 1\n",
    "            while left < right:\n",
    "                currentSum = nums[a] + nums[b] + nums[left] + nums[right]\n",
    "                if currentSum == target:\n",
    "                    quadruplets.append([nums[a], nums[b], nums[left], nums[right]])\n",
    "                    while left < right and nums[left] == nums[left + 1]:\n",
    "                        left += 1\n",
    "                    while left < right and nums[right] == nums[right - 1]:\n",
    "                        right -= 1\n",
    "                    left += 1\n",
    "                    right -= 1\n",
    "                elif currentSum < target:\n",
    "                    left += 1\n",
    "                else:\n",
    "                    right -= 1\n",
    "\n",
    "    return quadruplets"
   ]
  },
  {
   "cell_type": "code",
   "execution_count": 4,
   "id": "31469b9c",
   "metadata": {},
   "outputs": [
    {
     "data": {
      "text/plain": [
       "[[-2, -1, 1, 2], [-2, 0, 0, 2], [-1, 0, 0, 1]]"
      ]
     },
     "execution_count": 4,
     "metadata": {},
     "output_type": "execute_result"
    }
   ],
   "source": [
    "fourSum([1,0,-1,0,-2,2],0)"
   ]
  },
  {
   "cell_type": "markdown",
   "id": "1cbf7bec",
   "metadata": {},
   "source": [
    "# <aside>\n",
    "\n",
    "💡 **Question 3**\n",
    "\n",
    "A permutation of an array of integers is an arrangement of its members into a\n",
    "sequence or linear order.\n",
    "\n",
    "For example, for arr = [1,2,3], the following are all the permutations of arr:\n",
    "[1,2,3], [1,3,2], [2, 1, 3], [2, 3, 1], [3,1,2], [3,2,1].\n",
    "\n",
    "The next permutation of an array of integers is the next lexicographically greater\n",
    "permutation of its integer. More formally, if all the permutations of the array are\n",
    "sorted in one container according to their lexicographical order, then the next\n",
    "permutation of that array is the permutation that follows it in the sorted container.\n",
    "\n",
    "If such an arrangement is not possible, the array must be rearranged as the\n",
    "lowest possible order (i.e., sorted in ascending order).\n",
    "\n",
    "● For example, the next permutation of arr = [1,2,3] is [1,3,2].\n",
    "    \n",
    "● Similarly, the next permutation of arr = [2,3,1] is [3,1,2].\n",
    "    \n",
    "● While the next permutation of arr = [3,2,1] is [1,2,3] because [3,2,1] does not\n",
    "have a lexicographical larger rearrangement.\n",
    "\n",
    "Given an array of integers nums, find the next permutation of nums.\n",
    "The replacement must be in place and use only constant extra memory.\n",
    "\n",
    "**Example 1:**\n",
    "    \n",
    "Input: nums = [1,2,3]\n",
    "    \n",
    "Output: [1,3,2]\n",
    "\n",
    "</aside>"
   ]
  },
  {
   "cell_type": "code",
   "execution_count": 5,
   "id": "989ec9fa",
   "metadata": {},
   "outputs": [],
   "source": [
    "def sorting_(list_:list)->list:\n",
    "    for i in range(len(list_)-1,0, -1):\n",
    "        if list_[i-1]<list_[i]:\n",
    "            list_[i-1],list_[i]=list_[i],list_[i-1]\n",
    "            return reverse(i, list_)\n",
    "    return list_[::-1]\n",
    "            \n",
    "def reverse(num,list_):\n",
    "    list1 = list_[num:]\n",
    "    return list_[:num]+list1[::-1]\n",
    "        \n",
    "    "
   ]
  },
  {
   "cell_type": "code",
   "execution_count": 6,
   "id": "e738c232",
   "metadata": {},
   "outputs": [
    {
     "data": {
      "text/plain": [
       "[1, 3, 2]"
      ]
     },
     "execution_count": 6,
     "metadata": {},
     "output_type": "execute_result"
    }
   ],
   "source": [
    "sorting_([1,2,3])"
   ]
  },
  {
   "cell_type": "markdown",
   "id": "dffb2519",
   "metadata": {},
   "source": [
    "# Question 4\n",
    "\n",
    "Given a sorted array of distinct integers and a target value, return the index if the\n",
    "target is found. If not, return the index where it would be if it were inserted in\n",
    "order.\n",
    "\n",
    "You must write an algorithm with O(log n) runtime complexity.\n",
    "\n",
    "Example 1:\n",
    "    \n",
    "Input: nums = [1,3,5,6], target = 5\n",
    "    \n",
    "Output: 2"
   ]
  },
  {
   "cell_type": "code",
   "execution_count": 18,
   "id": "1203b628",
   "metadata": {},
   "outputs": [],
   "source": [
    "def insert_else_found(list_, target):\n",
    "    left = 0\n",
    "    right = len(list_)-1\n",
    "    while left<=right:\n",
    "        mid = (left+ right)//2\n",
    "        if list_[mid]== target:\n",
    "            return list_.index(target)\n",
    "        elif list_[mid]<target:\n",
    "            left = mid+1\n",
    "        else:\n",
    "            right = mid-1\n",
    "    list_.insert(mid,target)\n",
    "    return list_"
   ]
  },
  {
   "cell_type": "code",
   "execution_count": 19,
   "id": "4c0c63a1",
   "metadata": {},
   "outputs": [
    {
     "data": {
      "text/plain": [
       "[1, 2, 3, 5, 6]"
      ]
     },
     "execution_count": 19,
     "metadata": {},
     "output_type": "execute_result"
    }
   ],
   "source": [
    "insert_else_found([1,2,3,6],5)"
   ]
  },
  {
   "cell_type": "code",
   "execution_count": 20,
   "id": "f3238dda",
   "metadata": {},
   "outputs": [
    {
     "data": {
      "text/plain": [
       "2"
      ]
     },
     "execution_count": 20,
     "metadata": {},
     "output_type": "execute_result"
    }
   ],
   "source": [
    "insert_else_found([1,3,5,6],5)"
   ]
  },
  {
   "cell_type": "markdown",
   "id": "04920a17",
   "metadata": {},
   "source": [
    "# <aside>\n",
    "\n",
    "💡 **Question 5**\n",
    "\n",
    "You are given a large integer represented as an integer array digits, where each\n",
    "digits[i] is the ith digit of the integer. The digits are ordered from most significant\n",
    "to least significant in left-to-right order. The large integer does not contain any\n",
    "leading 0's.\n",
    "\n",
    "Increment the large integer by one and return the resulting array of digits.\n",
    "\n",
    "**Example 1:**\n",
    "    \n",
    "Input: digits = [1,2,3]\n",
    "    \n",
    "Output: [1,2,4]\n",
    "\n",
    "**Explanation:** The array represents the integer 123.\n",
    "    \n",
    "Incrementing by one gives 123 + 1 = 124\n",
    "\n",
    "Thus, the result should be [1,2,4].\n",
    "\n",
    "</aside>"
   ]
  },
  {
   "cell_type": "code",
   "execution_count": 28,
   "id": "dc8c9d06",
   "metadata": {},
   "outputs": [],
   "source": [
    "def addition_(list_):\n",
    "    value = int(''.join(str(i) for i in list_))\n",
    "    value = value+1\n",
    "    list_ = [int(i) for i in str(value)]\n",
    "    return list_"
   ]
  },
  {
   "cell_type": "code",
   "execution_count": 29,
   "id": "95bb93d1",
   "metadata": {},
   "outputs": [
    {
     "data": {
      "text/plain": [
       "[1, 2, 4]"
      ]
     },
     "execution_count": 29,
     "metadata": {},
     "output_type": "execute_result"
    }
   ],
   "source": [
    "addition_([1,2,3])"
   ]
  },
  {
   "cell_type": "markdown",
   "id": "3c6df378",
   "metadata": {},
   "source": [
    "# Question 6\n",
    "\n",
    "Given a non-empty array of integers nums, every element appears twice except\n",
    "\n",
    "for one. Find that single one.\n",
    "\n",
    "You must implement a solution with a linear runtime complexity and use only\n",
    "\n",
    "constant extra space.\n",
    "\n",
    "Example 1:\n",
    "Input: nums = [2,2,1]\n",
    "Output: 1"
   ]
  },
  {
   "cell_type": "code",
   "execution_count": 32,
   "id": "8d42039d",
   "metadata": {},
   "outputs": [],
   "source": [
    "def unique_element(list_):\n",
    "    single = 0\n",
    "    for i in list_:\n",
    "        single = single^i\n",
    "    return single\n",
    "        \n",
    "        "
   ]
  },
  {
   "cell_type": "code",
   "execution_count": 36,
   "id": "06c4d18f",
   "metadata": {},
   "outputs": [
    {
     "data": {
      "text/plain": [
       "0"
      ]
     },
     "execution_count": 36,
     "metadata": {},
     "output_type": "execute_result"
    }
   ],
   "source": [
    "unique_element([2,2,0])"
   ]
  },
  {
   "cell_type": "markdown",
   "id": "c40893c5",
   "metadata": {},
   "source": [
    "# Question 7\n",
    "\n",
    "You are given an inclusive range [lower, upper] and a sorted unique integer array\n",
    "\n",
    "nums, where all elements are within the inclusive range.\n",
    "\n",
    "A number x is considered missing if x is in the range [lower, upper] and x is not in\n",
    "nums.\n",
    "\n",
    "Return the shortest sorted list of ranges that exactly covers all the missing\n",
    "\n",
    "numbers. That is, no element of nums is included in any of the ranges, and each\n",
    "\n",
    "missing number is covered by one of the ranges.\n",
    "\n",
    "Example 1:\n",
    "    \n",
    "Input: nums = [0,1,3,50,75], lower = 0, upper = 99\n",
    "    \n",
    "Output: [[2,2],[4,49],[51,74],[76,99]]\n",
    "\n",
    "Explanation: The ranges are:\n",
    "[2,2]\n",
    "[4,49]\n",
    "[51,74]\n",
    "[76,99]"
   ]
  },
  {
   "cell_type": "code",
   "execution_count": 50,
   "id": "9f53c256",
   "metadata": {},
   "outputs": [],
   "source": [
    "def findMissingRanges(nums, lower, upper):\n",
    "    missing_ranges = []\n",
    "    \n",
    "    def addRange(start, end):\n",
    "        if start == end:\n",
    "            missing_ranges.append(str(start))\n",
    "        else:\n",
    "            missing_ranges.append(str(start) + \"->\" + str(end))\n",
    "    \n",
    "    prev = lower - 1  # Set the previous number to be one less than the lower bound\n",
    "    \n",
    "    for num in nums + [upper + 1]:  # Add upper + 1 to consider the missing range after the last number\n",
    "        if num - prev >= 2:\n",
    "            addRange(prev + 1, num - 1)\n",
    "        prev = num\n",
    "    \n",
    "    return missing_ranges\n"
   ]
  },
  {
   "cell_type": "markdown",
   "id": "27093267",
   "metadata": {},
   "source": [
    "# Question 8\n",
    "\n",
    "Given an array of meeting time intervals where intervals[i] = [starti, endi],\n",
    "determine if a person could attend all meetings.\n",
    "\n",
    "Example 1:\n",
    "    \n",
    "Input: intervals = [[0,30],[5,10],[15,20]]\n",
    "    \n",
    "Output: false"
   ]
  },
  {
   "cell_type": "code",
   "execution_count": 45,
   "id": "c8fa4743",
   "metadata": {},
   "outputs": [],
   "source": [
    "def attend_meeting(list_):\n",
    "    flag = True\n",
    "    max_time = -float('inf')\n",
    "\n",
    "    for i in range(len(list_)-1):\n",
    "        if list_[i][1] >max_time:\n",
    "            max_time = list_[i][1]\n",
    "        if max_time > list_[i][1]:\n",
    "            return False\n",
    "    return True\n",
    "        "
   ]
  },
  {
   "cell_type": "code",
   "execution_count": 46,
   "id": "9514fb77",
   "metadata": {},
   "outputs": [],
   "source": [
    "x = [[0,30],[5,10],[15,20]]"
   ]
  },
  {
   "cell_type": "code",
   "execution_count": 47,
   "id": "7d3ca34b",
   "metadata": {},
   "outputs": [
    {
     "data": {
      "text/plain": [
       "False"
      ]
     },
     "execution_count": 47,
     "metadata": {},
     "output_type": "execute_result"
    }
   ],
   "source": [
    "attend_meeting(x)"
   ]
  },
  {
   "cell_type": "code",
   "execution_count": 48,
   "id": "b33e84a9",
   "metadata": {},
   "outputs": [],
   "source": [
    "x = [[0,20],[5,30],[15,40]]"
   ]
  },
  {
   "cell_type": "code",
   "execution_count": 49,
   "id": "710caa62",
   "metadata": {},
   "outputs": [
    {
     "data": {
      "text/plain": [
       "True"
      ]
     },
     "execution_count": 49,
     "metadata": {},
     "output_type": "execute_result"
    }
   ],
   "source": [
    "attend_meeting(x)"
   ]
  },
  {
   "cell_type": "code",
   "execution_count": null,
   "id": "f2745c06",
   "metadata": {},
   "outputs": [],
   "source": []
  }
 ],
 "metadata": {
  "kernelspec": {
   "display_name": "Python 3 (ipykernel)",
   "language": "python",
   "name": "python3"
  },
  "language_info": {
   "codemirror_mode": {
    "name": "ipython",
    "version": 3
   },
   "file_extension": ".py",
   "mimetype": "text/x-python",
   "name": "python",
   "nbconvert_exporter": "python",
   "pygments_lexer": "ipython3",
   "version": "3.10.9"
  }
 },
 "nbformat": 4,
 "nbformat_minor": 5
}
