{
 "cells": [
  {
   "cell_type": "markdown",
   "id": "0948e3e6",
   "metadata": {},
   "source": [
    "\n",
    "💡 **Q1.** Given an array of size N. The task is to find the maximum and the minimum element of the array using the minimum number of comparisons.\n",
    "\n",
    "**Examples:**\n",
    "\n",
    "Input: arr[] = {3, 5, 4, 1, 9}\n",
    "\n",
    "Output: Minimum element is: 1\n",
    "\n",
    "Maximum element is: 9\n",
    "\n",
    "</aside>"
   ]
  },
  {
   "cell_type": "code",
   "execution_count": 15,
   "id": "b9284fa1",
   "metadata": {},
   "outputs": [],
   "source": [
    "def max_min_num(array_name):\n",
    "    min = array_name[0]\n",
    "    max = array_name[0]\n",
    "    for i in array_name:\n",
    "        if len(array_name)==0:\n",
    "            return 0\n",
    "        elif len(array_name)==1:\n",
    "            max =array_name[0]\n",
    "            min = array_name[0]\n",
    "            return max, min\n",
    "        else:\n",
    "            if i<min:\n",
    "                min = i\n",
    "            \n",
    "            if i> max:\n",
    "                max = i\n",
    "            \n",
    "    return print(f'Minimum element is: {min}\\n Maximum Element is {max}')\n",
    "\n"
   ]
  },
  {
   "cell_type": "code",
   "execution_count": 16,
   "id": "e417755c",
   "metadata": {},
   "outputs": [
    {
     "name": "stdout",
     "output_type": "stream",
     "text": [
      "Minimum element is: 1\n",
      " Maximum Element is 9\n"
     ]
    }
   ],
   "source": [
    "max_min_num([3, 5, 4, 1, 9])"
   ]
  },
  {
   "cell_type": "markdown",
   "id": "57a334b0",
   "metadata": {},
   "source": [
    "Time Complexity: O(n)\n",
    "    \n",
    "Space Complexity: O(n)"
   ]
  },
  {
   "cell_type": "markdown",
   "id": "35b7774b",
   "metadata": {},
   "source": [
    "💡 **Q2.** You are given an array prices where prices[i] is the price of a given stock on the ith day.\n",
    "\n",
    "You want to maximize your profit by choosing a single day to buy one stock and choosing a different day in the future to sell that stock.\n",
    "\n",
    "Return the maximum profit you can achieve from this transaction. If you cannot achieve any profit, return 0.\n",
    "\n",
    "**Example :**\n",
    "\n",
    "Input: prices = [7,1,5,3,6,4]\n",
    "\n",
    "Output: 5\n",
    "\n",
    "</aside>"
   ]
  },
  {
   "cell_type": "code",
   "execution_count": 48,
   "id": "ba240909",
   "metadata": {},
   "outputs": [],
   "source": [
    "def solution_class (list_value: list[int])-> int:\n",
    "    min_value = float('inf')\n",
    "    profit = 0\n",
    "    for i in range(len((list_value))):\n",
    "        if list_value[i]<min_value:\n",
    "            min_value = list_value[i]\n",
    "        if list_value[i]-min_value>profit:\n",
    "            profit= list_value[i]-min_value\n",
    "    return profit\n",
    "        "
   ]
  },
  {
   "cell_type": "code",
   "execution_count": 49,
   "id": "540e5180",
   "metadata": {},
   "outputs": [
    {
     "data": {
      "text/plain": [
       "6"
      ]
     },
     "execution_count": 49,
     "metadata": {},
     "output_type": "execute_result"
    }
   ],
   "source": [
    "solution_class([1,1,5,3,7,4])"
   ]
  },
  {
   "cell_type": "code",
   "execution_count": 50,
   "id": "d5ac8888",
   "metadata": {},
   "outputs": [],
   "source": [
    "#in class"
   ]
  },
  {
   "cell_type": "code",
   "execution_count": 51,
   "id": "20ae37a8",
   "metadata": {},
   "outputs": [],
   "source": [
    "class Solution:\n",
    "    def maxProfit(self, prices: list[int]) -> int:\n",
    "        min_price = float('inf')\n",
    "        max_profit = 0\n",
    "        for i in range(len(prices)):\n",
    "            if prices[i] < min_price:\n",
    "                min_price = prices[i]\n",
    "            elif prices[i] - min_price > max_profit:\n",
    "                max_profit = prices[i] - min_price\n",
    " \n",
    "        return max_profit\n"
   ]
  },
  {
   "cell_type": "markdown",
   "id": "2aee7eba",
   "metadata": {},
   "source": [
    "TC: O(n)--> only one foorloop\n",
    "    \n",
    "SC: O(1) --> Constant"
   ]
  },
  {
   "cell_type": "code",
   "execution_count": 52,
   "id": "7e08bdb6",
   "metadata": {},
   "outputs": [
    {
     "data": {
      "text/plain": [
       "6"
      ]
     },
     "execution_count": 52,
     "metadata": {},
     "output_type": "execute_result"
    }
   ],
   "source": [
    "Solution().maxProfit([1,1,5,3,7,4])"
   ]
  },
  {
   "cell_type": "markdown",
   "id": "1562d681",
   "metadata": {},
   "source": [
    "💡 **Q3.** Given an integer array nums, find a subarray that has the largest product, and return the product.\n",
    "\n",
    "The test cases are generated so that the answer will fit in a 32-bit integer.\n",
    "\n",
    "**Example:**\n",
    "\n",
    "Input: nums = [2,3,-2,4]\n",
    "\n",
    "Output: 6\n",
    "\n",
    "Explanation: [2,3] has the largest product 6.\n",
    "\n",
    "</aside>"
   ]
  },
  {
   "cell_type": "code",
   "execution_count": 64,
   "id": "7bb7ac7e",
   "metadata": {},
   "outputs": [
    {
     "data": {
      "text/plain": [
       "6"
      ]
     },
     "execution_count": 64,
     "metadata": {},
     "output_type": "execute_result"
    }
   ],
   "source": [
    "def max_product(list_num: list[int])-> int:\n",
    "    if len(list_num)==0:\n",
    "        return 0\n",
    "    maximum_product = -float('inf')\n",
    "    for i in range(len(list_num)-1):\n",
    "        if list_num[i]*list_num[i+1]>maximum_product:\n",
    "            maximum_product =  list_num[i]*list_num[i+1]\n",
    "    return maximum_product\n",
    "        \n",
    "        \n",
    "    \n",
    "max_product([2,3,-2,4])"
   ]
  },
  {
   "cell_type": "markdown",
   "id": "2c226dd0",
   "metadata": {},
   "source": [
    "💡 **Q4.** Given an integer array nums, return all the triplets [nums[i], nums[j], nums[k]] such that i != j, i != k, and j != k, and nums[i] + nums[j] + nums[k] == 0.\n",
    "\n",
    "Notice that the solution set must not contain duplicate triplets.\n",
    "\n",
    "**Example:**\n",
    "\n",
    "Input: nums = [-1,0,1,2,-1,-4]\n",
    "\n",
    "Output: [[-1,-1,2],[-1,0,1]]\n",
    "\n",
    "Explanation:\n",
    "\n",
    "nums[0] + nums[1] + nums[2] = (-1) + 0 + 1 = 0.\n",
    "\n",
    "nums[1] + nums[2] + nums[4] = 0 + 1 + (-1) = 0.\n",
    "\n",
    "nums[0] + nums[3] + nums[4] = (-1) + 2 + (-1) = 0.\n",
    "\n",
    "The distinct triplets are [-1,0,1] and [-1,-1,2].\n",
    "\n",
    "Notice that the order of the output and the order of the triplets does not matter.\n",
    "\n",
    "</aside>"
   ]
  },
  {
   "cell_type": "markdown",
   "id": "caff9647",
   "metadata": {},
   "source": [
    "Algorithm:\n",
    "    1. Sort the input array\n",
    "    \n",
    "    2. If current value > 0, break the loop\n",
    "    \n",
    "    3. Ig current value is same as one before, skip\n",
    "    \n",
    "    4. Call 2sum for current position"
   ]
  },
  {
   "cell_type": "code",
   "execution_count": 85,
   "id": "221ebb50",
   "metadata": {},
   "outputs": [],
   "source": [
    "#2 Pointer approach is needed-->we have to change 3sum problem to 2 sum problem"
   ]
  },
  {
   "cell_type": "code",
   "execution_count": 123,
   "id": "a14bd54b",
   "metadata": {},
   "outputs": [
    {
     "name": "stdout",
     "output_type": "stream",
     "text": [
      "[[-1, -1, 2], [-1, 0, 1]]\n"
     ]
    }
   ],
   "source": [
    "class Solution:\n",
    "    def three_sum(self, list_num):\n",
    "        res = []\n",
    "        list_num.sort()\n",
    "        for i in range(len(list_num)):\n",
    "            if list_num[i] > 0:\n",
    "                break\n",
    "            if i == 0 or list_num[i] != list_num[i - 1]:\n",
    "                self.twoSum(list_num, i, res)\n",
    "        return res\n",
    "\n",
    "    def twoSum(self, list_num, i, res):\n",
    "        low = i + 1\n",
    "        high = len(list_num) - 1\n",
    "\n",
    "        while low < high:\n",
    "            _sum = list_num[i] + list_num[low] + list_num[high]\n",
    "            if _sum < 0:\n",
    "                low = low + 1\n",
    "            elif _sum > 0:\n",
    "                high = high - 1\n",
    "            else:\n",
    "                res.append([list_num[i], list_num[low], list_num[high]])\n",
    "                low = low + 1\n",
    "                high = high - 1\n",
    "\n",
    "                while low < high and list_num[low] == list_num[low - 1]:\n",
    "                    low = low + 1\n",
    "\n",
    "\n",
    "solution = Solution()\n",
    "result = solution.three_sum( [-1,0,1,2,-1,-4])\n",
    "print(result)\n"
   ]
  },
  {
   "cell_type": "markdown",
   "id": "6a6edacd",
   "metadata": {},
   "source": [
    "💡 **Q5.** Given an integer array nums and an integer k, return the kth largest element in the array. Note that it is the kth largest element in the sorted order, not the kth distinct element.\n",
    "\n",
    "**Example 1:**\n",
    "\n",
    "Input: nums = [3,2,1,5,6,4], k = 2\n",
    "\n",
    "Output: 5\n",
    "\n",
    "</aside>"
   ]
  },
  {
   "cell_type": "code",
   "execution_count": 146,
   "id": "901c3770",
   "metadata": {},
   "outputs": [],
   "source": [
    "# n*log(N)"
   ]
  },
  {
   "cell_type": "code",
   "execution_count": 139,
   "id": "a057eb36",
   "metadata": {},
   "outputs": [
    {
     "name": "stdout",
     "output_type": "stream",
     "text": [
      "5\n"
     ]
    }
   ],
   "source": [
    "from typing import List\n",
    "class solution:\n",
    "    def kth_highest(self, array: List[int], k)-> int:\n",
    "        array.sort()\n",
    "        return array[-k]\n",
    "solution = Solution()\n",
    "print(solution.kth_highest([3,2,1,5,6,4], k = 2))"
   ]
  },
  {
   "cell_type": "code",
   "execution_count": 148,
   "id": "f237c5e6",
   "metadata": {},
   "outputs": [],
   "source": [
    "#use heap--> n*O(log(k))\n",
    "# Space complexxity = O(k)\n",
    "import heapq\n",
    "def kth_highest(array: List[int], k)-> int:\n",
    "    return heapq.nlargest(k, array)[-1]\n",
    "    "
   ]
  },
  {
   "cell_type": "code",
   "execution_count": 149,
   "id": "38c1629d",
   "metadata": {},
   "outputs": [
    {
     "data": {
      "text/plain": [
       "5"
      ]
     },
     "execution_count": 149,
     "metadata": {},
     "output_type": "execute_result"
    }
   ],
   "source": [
    "kth_highest([3,2,1,5,6,4], k = 2)"
   ]
  },
  {
   "cell_type": "markdown",
   "id": "628ea705",
   "metadata": {},
   "source": [
    "💡 **Q6.** Given an integer array nums and an integer k, return the kth smallest element in the array. Note that it is the kth smallest element in the sorted order, not the kth distinct element.\n",
    "\n",
    "**Example 1:**\n",
    "\n",
    "Input: nums = [3,2,1,5,6,4], k = 2\n",
    "\n",
    "Output: 2\n",
    "\n",
    "</aside>"
   ]
  },
  {
   "cell_type": "code",
   "execution_count": 150,
   "id": "4290b92b",
   "metadata": {},
   "outputs": [],
   "source": [
    "import heapq\n",
    "def kth_highest(array: List[int], k)-> int:\n",
    "    return heapq.nsmallest(k, array)[-1]\n",
    "    "
   ]
  },
  {
   "cell_type": "code",
   "execution_count": 151,
   "id": "dfb7e815",
   "metadata": {},
   "outputs": [
    {
     "data": {
      "text/plain": [
       "2"
      ]
     },
     "execution_count": 151,
     "metadata": {},
     "output_type": "execute_result"
    }
   ],
   "source": [
    "kth_highest([3,2,1,5,6,4], k = 2)"
   ]
  }
 ],
 "metadata": {
  "kernelspec": {
   "display_name": "Python 3 (ipykernel)",
   "language": "python",
   "name": "python3"
  },
  "language_info": {
   "codemirror_mode": {
    "name": "ipython",
    "version": 3
   },
   "file_extension": ".py",
   "mimetype": "text/x-python",
   "name": "python",
   "nbconvert_exporter": "python",
   "pygments_lexer": "ipython3",
   "version": "3.10.9"
  }
 },
 "nbformat": 4,
 "nbformat_minor": 5
}
