{
 "cells": [
  {
   "cell_type": "markdown",
   "id": "3875761b",
   "metadata": {},
   "source": [
    "# 💡 **Question 1**\n",
    "Given an integer array nums of 2n integers, group these integers into n pairs (a1, b1), (a2, b2),..., (an, bn) such that the sum of min(ai, bi) for all i is maximized. Return the maximized sum.\n",
    "\n",
    "**Example 1:**\n",
    "\n",
    "Input: nums = [1,4,3,2]\n",
    "\n",
    "Output: 4\n",
    "\n",
    "**Explanation:** All possible pairings (ignoring the ordering of elements) are:\n",
    "\n",
    "1. (1, 4), (2, 3) -> min(1, 4) + min(2, 3) = 1 + 2 = 3\n",
    "\n",
    "2. (1, 3), (2, 4) -> min(1, 3) + min(2, 4) = 1 + 2 = 3\n",
    "\n",
    "3. (1, 2), (3, 4) -> min(1, 2) + min(3, 4) = 1 + 3 = 4\n",
    "\n",
    "So the maximum possible sum is 4\n",
    "\n"
   ]
  },
  {
   "cell_type": "code",
   "execution_count": 1,
   "id": "aff1af0e",
   "metadata": {},
   "outputs": [],
   "source": [
    "def maxpair(list_):\n",
    "    list_.sort()\n",
    "    sum1 = 0\n",
    "    for i in range(0, len(list_), 2):\n",
    "        sum1 = sum1+ list_[i]\n",
    "    return sum1"
   ]
  },
  {
   "cell_type": "code",
   "execution_count": 2,
   "id": "ceac361b",
   "metadata": {},
   "outputs": [
    {
     "data": {
      "text/plain": [
       "4"
      ]
     },
     "execution_count": 2,
     "metadata": {},
     "output_type": "execute_result"
    }
   ],
   "source": [
    "maxpair([1,4,3,2])"
   ]
  },
  {
   "cell_type": "markdown",
   "id": "ef280941",
   "metadata": {},
   "source": [
    "# Question 2\n",
    "Alice has n candies, where the ith candy is of type candyType[i]. Alice noticed that she started to gain weight, so she visited a doctor. \n",
    "\n",
    "The doctor advised Alice to only eat n / 2 of the candies she has (n is always even). Alice likes her candies very much, and she wants to eat the maximum number of different types of candies while still following the doctor's advice. \n",
    "\n",
    "Given the integer array candyType of length n, return the maximum number of different types of candies she can eat if she only eats n / 2 of them.\n",
    "\n",
    "Example 1:\n",
    "\n",
    "Input: candyType = [1,1,2,2,3,3]\n",
    "\n",
    "Output: 3\n",
    "\n",
    "Explanation: Alice can only eat 6 / 2 = 3 candies. Since there are only 3 types, she can eat one of each type."
   ]
  },
  {
   "cell_type": "code",
   "execution_count": 11,
   "id": "efe04d15",
   "metadata": {},
   "outputs": [],
   "source": [
    "def max_chocolate(list_):\n",
    "    set_ = set(list_)\n",
    "    if len(set_) <= len(list_)/2:\n",
    "        return len(set_)\n",
    "    else:\n",
    "        return len(list)/2\n"
   ]
  },
  {
   "cell_type": "code",
   "execution_count": 12,
   "id": "3ef9692f",
   "metadata": {},
   "outputs": [
    {
     "data": {
      "text/plain": [
       "3"
      ]
     },
     "execution_count": 12,
     "metadata": {},
     "output_type": "execute_result"
    }
   ],
   "source": [
    "max_chocolate([1,1,2,2,3,3])"
   ]
  },
  {
   "cell_type": "markdown",
   "id": "2e5272ff",
   "metadata": {},
   "source": [
    "# Question 3\n",
    "\n",
    "We define a harmonious array as an array where the difference between its maximum value\n",
    "and its minimum value is exactly 1.\n",
    "\n",
    "Given an integer array nums, return the length of its longest harmonious subsequence\n",
    "among all its possible subsequences.\n",
    "\n",
    "A subsequence of an array is a sequence that can be derived from the array by deleting some or no elements without changing the order of the remaining elements.\n",
    "\n",
    "Example 1:\n",
    "    \n",
    "Input: nums = [1,3,2,2,5,2,3,7]\n",
    "    \n",
    "Output: 5\n",
    "\n",
    "Explanation: The longest harmonious subsequence is [3,2,2,2,3]."
   ]
  },
  {
   "cell_type": "code",
   "execution_count": 49,
   "id": "f568086b",
   "metadata": {},
   "outputs": [],
   "source": [
    "def harmonious(list_):\n",
    "    counter = {}\n",
    "    for num in nums:\n",
    "        counter[num] = counter.get(num, 0) + 1\n",
    "\n",
    "    max_length = 0\n",
    "    for num in nums:\n",
    "        if num + 1 in counter:\n",
    "            length = counter[num] + counter[num + 1]\n",
    "            max_length = max(max_length, length)\n",
    "\n",
    "    return max_length\n",
    "        "
   ]
  },
  {
   "cell_type": "code",
   "execution_count": 50,
   "id": "2ef84fc7",
   "metadata": {},
   "outputs": [],
   "source": [
    "nums = [1, 3, 2, 2, 5, 2, 3, 7]\n"
   ]
  },
  {
   "cell_type": "code",
   "execution_count": 51,
   "id": "8bcf46f4",
   "metadata": {},
   "outputs": [
    {
     "data": {
      "text/plain": [
       "5"
      ]
     },
     "execution_count": 51,
     "metadata": {},
     "output_type": "execute_result"
    }
   ],
   "source": [
    "harmonious(nums)"
   ]
  },
  {
   "cell_type": "markdown",
   "id": "32c5c5f2",
   "metadata": {},
   "source": [
    "# Question 4\n",
    "\n",
    "You have a long flowerbed in which some of the plots are planted, and some are not.\n",
    "However, flowers cannot be planted in adjacent plots.\n",
    "Given an integer array flowerbed containing 0's and 1's, where 0 means empty and 1 means not empty, and an integer n, return true if n new flowers can be planted in the flowerbed without violating the no-adjacent-flowers rule and false otherwise.\n",
    "\n",
    "Example 1:\n",
    "\n",
    "Input: flowerbed = [1,0,0,0,1], n = 1\n",
    "\n",
    "Output: true"
   ]
  },
  {
   "cell_type": "code",
   "execution_count": 10,
   "id": "a557056a",
   "metadata": {},
   "outputs": [],
   "source": [
    "def flowerbed(list_):\n",
    "    for i in range(len(list_)):\n",
    "        if i== 0 and  list_[i]==0 and  list_[i+1] ==0:\n",
    "            return True\n",
    "        elif i==-1 and list_[i]==0 and list_[i-1]==0:\n",
    "            return True\n",
    "        elif list_[i:i+3]==[0,0,0]:\n",
    "            return True\n",
    "\n",
    "    return False\n",
    "    \n",
    "    \n",
    "    "
   ]
  },
  {
   "cell_type": "code",
   "execution_count": 15,
   "id": "ca5f50b0",
   "metadata": {},
   "outputs": [
    {
     "data": {
      "text/plain": [
       "False"
      ]
     },
     "execution_count": 15,
     "metadata": {},
     "output_type": "execute_result"
    }
   ],
   "source": [
    "flowerbed([1,0,0,1,0])"
   ]
  },
  {
   "cell_type": "code",
   "execution_count": 16,
   "id": "37c68cf5",
   "metadata": {},
   "outputs": [
    {
     "data": {
      "text/plain": [
       "False"
      ]
     },
     "execution_count": 16,
     "metadata": {},
     "output_type": "execute_result"
    }
   ],
   "source": [
    "flowerbed([1,0,0,1,0,0])"
   ]
  },
  {
   "cell_type": "markdown",
   "id": "3f7bc916",
   "metadata": {},
   "source": [
    "# Question 5\n",
    "\n",
    "Given an integer array nums, find three numbers whose product is maximum and return the maximum product.\n",
    "\n",
    "Example 1:\n",
    "    \n",
    "Input: nums = [1,2,3]\n",
    "    \n",
    "Output: 6"
   ]
  },
  {
   "cell_type": "code",
   "execution_count": 17,
   "id": "95aa96c6",
   "metadata": {},
   "outputs": [],
   "source": [
    "def calculate_mul(list_):\n",
    "    list_.sort()\n",
    "    mult = 1\n",
    "    for i in range(len(list_),len(list_)-3,-1):\n",
    "        mult = mult*i\n",
    "    return mult"
   ]
  },
  {
   "cell_type": "code",
   "execution_count": 19,
   "id": "d2a0a093",
   "metadata": {},
   "outputs": [
    {
     "data": {
      "text/plain": [
       "6"
      ]
     },
     "execution_count": 19,
     "metadata": {},
     "output_type": "execute_result"
    }
   ],
   "source": [
    "calculate_mul([1,2,3])"
   ]
  },
  {
   "cell_type": "markdown",
   "id": "77edb72a",
   "metadata": {},
   "source": [
    "# Question 6\n",
    "\n",
    "Given an array of integers nums which is sorted in ascending order, and an integer target,\n",
    "write a function to search target in nums. If target exists, then return its index. Otherwise,\n",
    "return -1.\n",
    "\n",
    "You must write an algorithm with O(log n) runtime complexity.\n",
    "\n",
    "Input: nums = [-1,0,3,5,9,12], target = 9\n",
    "    \n",
    "Output: 4\n",
    "\n",
    "Explanation: 9 exists in nums and its index is 4"
   ]
  },
  {
   "cell_type": "code",
   "execution_count": 26,
   "id": "6e41914b",
   "metadata": {},
   "outputs": [],
   "source": [
    "def search(list_, target):\n",
    "    low = 0\n",
    "    high = len(list_)-1\n",
    "    while low<= high:\n",
    "        mid = (low+high)//2\n",
    "        if list_[mid]==target:\n",
    "            return mid\n",
    "        if list_[mid]<target:\n",
    "            low = mid+1\n",
    "        else:\n",
    "            high = mid-1\n",
    "    return -1"
   ]
  },
  {
   "cell_type": "code",
   "execution_count": 27,
   "id": "b1b7f09e",
   "metadata": {},
   "outputs": [
    {
     "data": {
      "text/plain": [
       "4"
      ]
     },
     "execution_count": 27,
     "metadata": {},
     "output_type": "execute_result"
    }
   ],
   "source": [
    "search([-1,0,3,5,9,12],9)"
   ]
  },
  {
   "cell_type": "markdown",
   "id": "72317dcc",
   "metadata": {},
   "source": [
    "# Question 7\n",
    "\n",
    "\n",
    "An array is monotonic if it is either monotone increasing or monotone decreasing.\n",
    "\n",
    "An array nums is monotone increasing if for all i <= j, nums[i] <= nums[j]. An array nums is monotone decreasing if for all i <= j, nums[i] >= nums[j].\n",
    "\n",
    "Given an integer array nums, return true if the given array is monotonic, or false otherwise.\n",
    "\n",
    "Example 1:\n",
    "    \n",
    "Input: nums = [1,2,2,3]\n",
    "    \n",
    "Output: true"
   ]
  },
  {
   "cell_type": "code",
   "execution_count": 47,
   "id": "e8b19466",
   "metadata": {},
   "outputs": [],
   "source": [
    "def monotonic_check(list_:list)->int:\n",
    "    low = 0\n",
    "    list1 = sorted(list_)\n",
    "    if list_ == list1 or list_ == list1[::-1]:\n",
    "        return True\n",
    "    else:\n",
    "        return False\n",
    "    "
   ]
  },
  {
   "cell_type": "code",
   "execution_count": 48,
   "id": "c70a0cbc",
   "metadata": {},
   "outputs": [
    {
     "data": {
      "text/plain": [
       "True"
      ]
     },
     "execution_count": 48,
     "metadata": {},
     "output_type": "execute_result"
    }
   ],
   "source": [
    "monotonic_check([1,2,2,4])"
   ]
  },
  {
   "cell_type": "markdown",
   "id": "9d1ea88c",
   "metadata": {},
   "source": [
    "# Question 8\n",
    "\n",
    "You are given an integer array nums and an integer k.\n",
    "\n",
    "In one operation, you can choose any index i where 0 <= i < nums.length and change nums[i] to nums[i] + x where x is an integer from the range [-k, k]. You can apply this operation at most once for each index i.\n",
    "\n",
    "The score of nums is the difference between the maximum and minimum elements in nums.\n",
    "\n",
    "Return the minimum score of nums after applying the mentioned operation at most once for each index in it.\n",
    "\n",
    "Example 1:\n",
    "\n",
    "Input: nums = [1], k = 0\n",
    "\n",
    "Output: 0\n",
    "\n",
    "Explanation: The score is max(nums) - min(nums) = 1 - 1 = 0."
   ]
  },
  {
   "cell_type": "code",
   "execution_count": 54,
   "id": "2f6268f4",
   "metadata": {},
   "outputs": [
    {
     "name": "stdout",
     "output_type": "stream",
     "text": [
      "0\n"
     ]
    }
   ],
   "source": [
    "def minScore(nums, k):\n",
    "    if len(nums) == 1:\n",
    "        return 0\n",
    "\n",
    "    min_num = min(nums)\n",
    "    max_num = max(nums)\n",
    "    \n",
    "    if k >= max_num - min_num:\n",
    "        return 0\n",
    "    \n",
    "    return max_num - k - (min_num + k)\n",
    "\n",
    "nums = [1]\n",
    "k = 0\n",
    "print(minScore(nums, k)) "
   ]
  }
 ],
 "metadata": {
  "kernelspec": {
   "display_name": "Python 3 (ipykernel)",
   "language": "python",
   "name": "python3"
  },
  "language_info": {
   "codemirror_mode": {
    "name": "ipython",
    "version": 3
   },
   "file_extension": ".py",
   "mimetype": "text/x-python",
   "name": "python",
   "nbconvert_exporter": "python",
   "pygments_lexer": "ipython3",
   "version": "3.10.9"
  }
 },
 "nbformat": 4,
 "nbformat_minor": 5
}
